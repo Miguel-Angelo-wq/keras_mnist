{
  "cells": [
    {
      "cell_type": "code",
      "source": [
        "from keras.datasets import mnist\n",
        "import numpy as np\n",
        "from keras.models import Sequential\n",
        "from keras.datasets import mnist\n",
        "from keras.optimizers import SGD\n",
        "from keras.layers import Dense, Activation\n",
        "np.random.seed(1671)"
      ],
      "metadata": {
        "id": "HPrc4f-w8wzv"
      },
      "execution_count": 31,
      "outputs": []
    },
    {
      "cell_type": "code",
      "source": [
        "num_epoch = 200\n",
        "batch_size = 128\n",
        "verbose = 1\n",
        "num_classes = 10\n",
        "optimizer = SGD()\n",
        "num_hidden = 128\n",
        "train_portion = 0.2"
      ],
      "metadata": {
        "id": "nm5evAMlMsed"
      },
      "execution_count": 32,
      "outputs": []
    },
    {
      "cell_type": "code",
      "source": [
        "(X_train, y_train), (X_test, y_test) = mnist.load_data()"
      ],
      "metadata": {
        "id": "zA9L8WPbMwH0"
      },
      "execution_count": 33,
      "outputs": []
    },
    {
      "cell_type": "code",
      "source": [
        "import matplotlib.pyplot as plt\n",
        "\n",
        "plt.figure(figsize = (12, 6))\n",
        "\n",
        "for i in range(1, 10):\n",
        "  plt.subplot(3, 3, i)\n",
        "  plt.imshow(X_train[i])"
      ],
      "metadata": {
        "colab": {
          "base_uri": "https://localhost:8080/",
          "height": 525
        },
        "id": "sg4VK7zXMs3R",
        "outputId": "355ea04e-ef5f-46ce-dcf6-dd38d833db39"
      },
      "execution_count": 34,
      "outputs": [
        {
          "output_type": "display_data",
          "data": {
            "text/plain": [
              "<Figure size 1200x600 with 9 Axes>"
            ],
            "image/png": "[encoded data removed]"
          },
          "metadata": {}
        }
      ]
    },
    {
      "cell_type": "markdown",
      "source": [
        "#Temos que o dataset é com posto por 60000 itens 28x28 (60000 x 28 x 28). Vamos aplicar o conceito de *flattening* e torná-lo 60000 x 784"
      ],
      "metadata": {
        "id": "YIgSWvKaxJll"
      }
    },
    {
      "cell_type": "code",
      "source": [
        "new_shape = 784"
      ],
      "metadata": {
        "id": "SBScT8-COR8Y"
      },
      "execution_count": 35,
      "outputs": []
    },
    {
      "cell_type": "code",
      "source": [
        "X_train = X_train.reshape(60000, new_shape)\n",
        "X_test = X_test.reshape(10000, new_shape)"
      ],
      "metadata": {
        "id": "e46eyKGKOb2T"
      },
      "execution_count": 36,
      "outputs": []
    },
    {
      "cell_type": "code",
      "source": [
        "X_train = X_train.astype('float32')\n",
        "X_test = X_test.astype('float32')"
      ],
      "metadata": {
        "id": "Tbhw_26fOxuW"
      },
      "execution_count": 37,
      "outputs": []
    },
    {
      "cell_type": "markdown",
      "source": [
        "#Normalização dos valores do intervalo [ 0, 255 ] para [ 0, 1 ]."
      ],
      "metadata": {
        "id": "i5KGo968x1Ur"
      }
    },
    {
      "cell_type": "code",
      "source": [
        "X_train /= 255\n",
        "X_test /= 255"
      ],
      "metadata": {
        "id": "ajZ8gB3lPwov"
      },
      "execution_count": 38,
      "outputs": []
    },
    {
      "cell_type": "code",
      "source": [
        "print(X_train.shape[0], 'train samples')\n",
        "print(X_test.shape[0], 'test samples')"
      ],
      "metadata": {
        "colab": {
          "base_uri": "https://localhost:8080/"
        },
        "id": "Z-Tdd834P6wa",
        "outputId": "d245100c-bd93-4f60-f191-9033268fee69"
      },
      "execution_count": 39,
      "outputs": [
        {
          "output_type": "stream",
          "name": "stdout",
          "text": [
            "60000 train samples\n",
            "10000 test samples\n"
          ]
        }
      ]
    },
    {
      "cell_type": "markdown",
      "source": [
        "#Convertemos os valores de Y em matrizes binárias com as linhas compostas por zeros e apenas um número 1 na posição que representa o valor do número."
      ],
      "metadata": {
        "id": "pVXScejM6ZJA"
      }
    },
    {
      "cell_type": "code",
      "source": [
        "from keras.utils import to_categorical"
      ],
      "metadata": {
        "id": "Xzh-MkCTVkGl"
      },
      "execution_count": 40,
      "outputs": []
    },
    {
      "cell_type": "code",
      "source": [
        "Y_train = to_categorical(y_train, num_classes)\n",
        "Y_test = to_categorical(y_test, num_classes)"
      ],
      "metadata": {
        "id": "-PVHrUpVSqph"
      },
      "execution_count": 41,
      "outputs": []
    },
    {
      "cell_type": "markdown",
      "source": [
        "função SoftMax:\n",
        "\n",
        "$S(y)i = exp(yi)/∑jexp(yj)$"
      ],
      "metadata": {
        "id": "FEV8z6tmqgmv"
      }
    },
    {
      "cell_type": "code",
      "source": [
        "model = Sequential()\n",
        "model.add(Dense(num_classes, input_shape = (new_shape,)))\n",
        "model.add(Activation('softmax'))\n",
        "model.summary()"
      ],
      "metadata": {
        "colab": {
          "base_uri": "https://localhost:8080/"
        },
        "id": "3d7asEchTBs4",
        "outputId": "9f1aba15-1c4e-4be8-8f45-5c54d889523b"
      },
      "execution_count": 42,
      "outputs": [
        {
          "output_type": "stream",
          "name": "stdout",
          "text": [
            "Model: \"sequential_1\"\n",
            "_________________________________________________________________\n",
            " Layer (type)                Output Shape              Param #   \n",
            "=================================================================\n",
            " dense_1 (Dense)             (None, 10)                7850      \n",
            "                                                                 \n",
            " activation_1 (Activation)   (None, 10)                0         \n",
            "                                                                 \n",
            "=================================================================\n",
            "Total params: 7850 (30.66 KB)\n",
            "Trainable params: 7850 (30.66 KB)\n",
            "Non-trainable params: 0 (0.00 Byte)\n",
            "_________________________________________________________________\n"
          ]
        }
      ]
    },
    {
      "cell_type": "markdown",
      "source": [
        "$H(y,y^​)=−∑i​yi​⋅log(y^​i​)$"
      ],
      "metadata": {
        "id": "DV47pN4MmDqt"
      }
    },
    {
      "cell_type": "code",
      "source": [
        "model.compile(loss = 'categorical_crossentropy', optimizer = optimizer, metrics = ['accuracy'])"
      ],
      "metadata": {
        "id": "Ci6ukGAHy44q"
      },
      "execution_count": 43,
      "outputs": []
    },
    {
      "cell_type": "markdown",
      "source": [
        "#Acessando os hiperparâmetros:"
      ],
      "metadata": {
        "id": "_eit-ye1s82r"
      }
    },
    {
      "cell_type": "code",
      "source": [
        "model_config = model.get_config()\n",
        "print(model_config)"
      ],
      "metadata": {
        "colab": {
          "base_uri": "https://localhost:8080/"
        },
        "id": "hjQUBamatB2_",
        "outputId": "2268a156-3583-4d7e-befa-3c082d2e63db"
      },
      "execution_count": 44,
      "outputs": [
        {
          "output_type": "stream",
          "name": "stdout",
          "text": [
            "{'name': 'sequential_1', 'layers': [{'module': 'keras.layers', 'class_name': 'InputLayer', 'config': {'batch_input_shape': (None, 784), 'dtype': 'float32', 'sparse': False, 'ragged': False, 'name': 'dense_1_input'}, 'registered_name': None}, {'module': 'keras.layers', 'class_name': 'Dense', 'config': {'name': 'dense_1', 'trainable': True, 'dtype': 'float32', 'batch_input_shape': (None, 784), 'units': 10, 'activation': 'linear', 'use_bias': True, 'kernel_initializer': {'module': 'keras.initializers', 'class_name': 'GlorotUniform', 'config': {'seed': None}, 'registered_name': None}, 'bias_initializer': {'module': 'keras.initializers', 'class_name': 'Zeros', 'config': {}, 'registered_name': None}, 'kernel_regularizer': None, 'bias_regularizer': None, 'activity_regularizer': None, 'kernel_constraint': None, 'bias_constraint': None}, 'registered_name': None, 'build_config': {'input_shape': (None, 784)}}, {'module': 'keras.layers', 'class_name': 'Activation', 'config': {'name': 'activation_1', 'trainable': True, 'dtype': 'float32', 'activation': 'softmax'}, 'registered_name': None, 'build_config': {'input_shape': (None, 10)}}]}\n"
          ]
        }
      ]
    },
    {
      "cell_type": "code",
      "source": [
        "model.summary()\n"
      ],
      "metadata": {
        "colab": {
          "base_uri": "https://localhost:8080/"
        },
        "id": "wzXNAM5M0A9c",
        "outputId": "a6f53885-b18d-42b3-9a27-71d2611cae32"
      },
      "execution_count": 45,
      "outputs": [
        {
          "output_type": "stream",
          "name": "stdout",
          "text": [
            "Model: \"sequential_1\"\n",
            "_________________________________________________________________\n",
            " Layer (type)                Output Shape              Param #   \n",
            "=================================================================\n",
            " dense_1 (Dense)             (None, 10)                7850      \n",
            "                                                                 \n",
            " activation_1 (Activation)   (None, 10)                0         \n",
            "                                                                 \n",
            "=================================================================\n",
            "Total params: 7850 (30.66 KB)\n",
            "Trainable params: 7850 (30.66 KB)\n",
            "Non-trainable params: 0 (0.00 Byte)\n",
            "_________________________________________________________________\n"
          ]
        }
      ]
    },
    {
      "cell_type": "code",
      "source": [
        "history = model.fit(\n",
        "                    X_train, Y_train,\n",
        "                    batch_size = batch_size,\n",
        "                    epochs = num_epoch,\n",
        "                    verbose = verbose,\n",
        "                    validation_split = train_portion,\n",
        "                   )\n",
        "score = model.evaluate(X_test, Y_test, verbose = verbose)\n",
        "\n",
        "print(\"Test score:\", score[0])\n",
        "print(\"Test accuracy:\", score[1])\n"
      ],
      "metadata": {
        "colab": {
          "base_uri": "https://localhost:8080/"
        },
        "id": "lTJuFQst7hvN",
        "outputId": "63081be7-0750-4882-be34-8e0a1663b458"
      },
      "execution_count": 46,
      "outputs": [
        {
          "output_type": "stream",
          "name": "stdout",
          "text": [
            "Epoch 1/200\n",
            "375/375 [==============================] - 2s 3ms/step - loss: 1.3582 - accuracy: 0.6793 - val_loss: 0.8821 - val_accuracy: 0.8257\n",
            "Epoch 2/200\n",
            "375/375 [==============================] - 1s 2ms/step - loss: 0.7862 - accuracy: 0.8295 - val_loss: 0.6501 - val_accuracy: 0.8608\n",
            "Epoch 3/200\n",
            "375/375 [==============================] - 1s 2ms/step - loss: 0.6395 - accuracy: 0.8523 - val_loss: 0.5570 - val_accuracy: 0.8730\n",
            "Epoch 4/200\n",
            "375/375 [==============================] - 1s 2ms/step - loss: 0.5683 - accuracy: 0.8621 - val_loss: 0.5052 - val_accuracy: 0.8802\n",
            "Epoch 5/200\n",
            "375/375 [==============================] - 1s 2ms/step - loss: 0.5250 - accuracy: 0.8691 - val_loss: 0.4720 - val_accuracy: 0.8834\n",
            "Epoch 6/200\n",
            "375/375 [==============================] - 1s 2ms/step - loss: 0.4952 - accuracy: 0.8746 - val_loss: 0.4483 - val_accuracy: 0.8881\n",
            "Epoch 7/200\n",
            "375/375 [==============================] - 1s 2ms/step - loss: 0.4731 - accuracy: 0.8778 - val_loss: 0.4304 - val_accuracy: 0.8905\n",
            "Epoch 8/200\n",
            "375/375 [==============================] - 1s 2ms/step - loss: 0.4559 - accuracy: 0.8817 - val_loss: 0.4164 - val_accuracy: 0.8935\n",
            "Epoch 9/200\n",
            "375/375 [==============================] - 1s 2ms/step - loss: 0.4420 - accuracy: 0.8842 - val_loss: 0.4055 - val_accuracy: 0.8951\n",
            "Epoch 10/200\n",
            "375/375 [==============================] - 1s 2ms/step - loss: 0.4306 - accuracy: 0.8862 - val_loss: 0.3957 - val_accuracy: 0.8966\n",
            "Epoch 11/200\n",
            "375/375 [==============================] - 1s 2ms/step - loss: 0.4209 - accuracy: 0.8881 - val_loss: 0.3878 - val_accuracy: 0.8988\n",
            "Epoch 12/200\n",
            "375/375 [==============================] - 1s 3ms/step - loss: 0.4125 - accuracy: 0.8896 - val_loss: 0.3809 - val_accuracy: 0.8997\n",
            "Epoch 13/200\n",
            "375/375 [==============================] - 1s 4ms/step - loss: 0.4052 - accuracy: 0.8905 - val_loss: 0.3749 - val_accuracy: 0.9013\n",
            "Epoch 14/200\n",
            "375/375 [==============================] - 1s 3ms/step - loss: 0.3988 - accuracy: 0.8919 - val_loss: 0.3697 - val_accuracy: 0.9020\n",
            "Epoch 15/200\n",
            "375/375 [==============================] - 1s 2ms/step - loss: 0.3930 - accuracy: 0.8930 - val_loss: 0.3650 - val_accuracy: 0.9021\n",
            "Epoch 16/200\n",
            "375/375 [==============================] - 1s 2ms/step - loss: 0.3879 - accuracy: 0.8941 - val_loss: 0.3607 - val_accuracy: 0.9038\n",
            "Epoch 17/200\n",
            "375/375 [==============================] - 1s 2ms/step - loss: 0.3832 - accuracy: 0.8953 - val_loss: 0.3569 - val_accuracy: 0.9038\n",
            "Epoch 18/200\n",
            "375/375 [==============================] - 1s 2ms/step - loss: 0.3790 - accuracy: 0.8964 - val_loss: 0.3532 - val_accuracy: 0.9052\n",
            "Epoch 19/200\n",
            "375/375 [==============================] - 1s 2ms/step - loss: 0.3751 - accuracy: 0.8974 - val_loss: 0.3501 - val_accuracy: 0.9059\n",
            "Epoch 20/200\n",
            "375/375 [==============================] - 1s 2ms/step - loss: 0.3715 - accuracy: 0.8981 - val_loss: 0.3475 - val_accuracy: 0.9062\n",
            "Epoch 21/200\n",
            "375/375 [==============================] - 1s 2ms/step - loss: 0.3682 - accuracy: 0.8990 - val_loss: 0.3445 - val_accuracy: 0.9074\n",
            "Epoch 22/200\n",
            "375/375 [==============================] - 1s 2ms/step - loss: 0.3651 - accuracy: 0.8996 - val_loss: 0.3420 - val_accuracy: 0.9075\n",
            "Epoch 23/200\n",
            "375/375 [==============================] - 1s 2ms/step - loss: 0.3622 - accuracy: 0.9003 - val_loss: 0.3396 - val_accuracy: 0.9080\n",
            "Epoch 24/200\n",
            "375/375 [==============================] - 1s 2ms/step - loss: 0.3595 - accuracy: 0.9004 - val_loss: 0.3374 - val_accuracy: 0.9081\n",
            "Epoch 25/200\n",
            "375/375 [==============================] - 1s 3ms/step - loss: 0.3570 - accuracy: 0.9012 - val_loss: 0.3354 - val_accuracy: 0.9088\n",
            "Epoch 26/200\n",
            "375/375 [==============================] - 1s 4ms/step - loss: 0.3546 - accuracy: 0.9016 - val_loss: 0.3334 - val_accuracy: 0.9090\n",
            "Epoch 27/200\n",
            "375/375 [==============================] - 1s 2ms/step - loss: 0.3523 - accuracy: 0.9020 - val_loss: 0.3315 - val_accuracy: 0.9097\n",
            "Epoch 28/200\n",
            "375/375 [==============================] - 1s 2ms/step - loss: 0.3502 - accuracy: 0.9025 - val_loss: 0.3299 - val_accuracy: 0.9091\n",
            "Epoch 29/200\n",
            "375/375 [==============================] - 1s 2ms/step - loss: 0.3482 - accuracy: 0.9031 - val_loss: 0.3283 - val_accuracy: 0.9099\n",
            "Epoch 30/200\n",
            "375/375 [==============================] - 1s 2ms/step - loss: 0.3463 - accuracy: 0.9031 - val_loss: 0.3267 - val_accuracy: 0.9105\n",
            "Epoch 31/200\n",
            "375/375 [==============================] - 1s 2ms/step - loss: 0.3445 - accuracy: 0.9036 - val_loss: 0.3252 - val_accuracy: 0.9109\n",
            "Epoch 32/200\n",
            "375/375 [==============================] - 1s 2ms/step - loss: 0.3427 - accuracy: 0.9043 - val_loss: 0.3239 - val_accuracy: 0.9110\n",
            "Epoch 33/200\n",
            "375/375 [==============================] - 1s 2ms/step - loss: 0.3411 - accuracy: 0.9048 - val_loss: 0.3226 - val_accuracy: 0.9118\n",
            "Epoch 34/200\n",
            "375/375 [==============================] - 1s 2ms/step - loss: 0.3395 - accuracy: 0.9052 - val_loss: 0.3213 - val_accuracy: 0.9115\n",
            "Epoch 35/200\n",
            "375/375 [==============================] - 1s 2ms/step - loss: 0.3380 - accuracy: 0.9056 - val_loss: 0.3201 - val_accuracy: 0.9122\n",
            "Epoch 36/200\n",
            "375/375 [==============================] - 1s 2ms/step - loss: 0.3366 - accuracy: 0.9059 - val_loss: 0.3189 - val_accuracy: 0.9123\n",
            "Epoch 37/200\n",
            "375/375 [==============================] - 1s 2ms/step - loss: 0.3352 - accuracy: 0.9066 - val_loss: 0.3180 - val_accuracy: 0.9127\n",
            "Epoch 38/200\n",
            "375/375 [==============================] - 1s 3ms/step - loss: 0.3339 - accuracy: 0.9070 - val_loss: 0.3167 - val_accuracy: 0.9129\n",
            "Epoch 39/200\n",
            "375/375 [==============================] - 1s 4ms/step - loss: 0.3326 - accuracy: 0.9075 - val_loss: 0.3158 - val_accuracy: 0.9125\n",
            "Epoch 40/200\n",
            "375/375 [==============================] - 1s 3ms/step - loss: 0.3314 - accuracy: 0.9076 - val_loss: 0.3148 - val_accuracy: 0.9131\n",
            "Epoch 41/200\n",
            "375/375 [==============================] - 1s 2ms/step - loss: 0.3302 - accuracy: 0.9079 - val_loss: 0.3138 - val_accuracy: 0.9133\n",
            "Epoch 42/200\n",
            "375/375 [==============================] - 1s 2ms/step - loss: 0.3290 - accuracy: 0.9086 - val_loss: 0.3129 - val_accuracy: 0.9133\n",
            "Epoch 43/200\n",
            "375/375 [==============================] - 1s 2ms/step - loss: 0.3279 - accuracy: 0.9085 - val_loss: 0.3121 - val_accuracy: 0.9133\n",
            "Epoch 44/200\n",
            "375/375 [==============================] - 1s 2ms/step - loss: 0.3268 - accuracy: 0.9091 - val_loss: 0.3113 - val_accuracy: 0.9133\n",
            "Epoch 45/200\n",
            "375/375 [==============================] - 1s 2ms/step - loss: 0.3258 - accuracy: 0.9094 - val_loss: 0.3105 - val_accuracy: 0.9135\n",
            "Epoch 46/200\n",
            "375/375 [==============================] - 1s 2ms/step - loss: 0.3248 - accuracy: 0.9097 - val_loss: 0.3096 - val_accuracy: 0.9137\n",
            "Epoch 47/200\n",
            "375/375 [==============================] - 1s 2ms/step - loss: 0.3239 - accuracy: 0.9098 - val_loss: 0.3088 - val_accuracy: 0.9137\n",
            "Epoch 48/200\n",
            "375/375 [==============================] - 1s 2ms/step - loss: 0.3229 - accuracy: 0.9101 - val_loss: 0.3081 - val_accuracy: 0.9135\n",
            "Epoch 49/200\n",
            "375/375 [==============================] - 1s 2ms/step - loss: 0.3220 - accuracy: 0.9103 - val_loss: 0.3074 - val_accuracy: 0.9137\n",
            "Epoch 50/200\n",
            "375/375 [==============================] - 1s 2ms/step - loss: 0.3211 - accuracy: 0.9109 - val_loss: 0.3067 - val_accuracy: 0.9143\n",
            "Epoch 51/200\n",
            "375/375 [==============================] - 1s 3ms/step - loss: 0.3203 - accuracy: 0.9111 - val_loss: 0.3060 - val_accuracy: 0.9140\n",
            "Epoch 52/200\n",
            "375/375 [==============================] - 1s 4ms/step - loss: 0.3194 - accuracy: 0.9116 - val_loss: 0.3056 - val_accuracy: 0.9142\n",
            "Epoch 53/200\n",
            "375/375 [==============================] - 1s 2ms/step - loss: 0.3186 - accuracy: 0.9118 - val_loss: 0.3048 - val_accuracy: 0.9146\n",
            "Epoch 54/200\n",
            "375/375 [==============================] - 1s 2ms/step - loss: 0.3179 - accuracy: 0.9120 - val_loss: 0.3041 - val_accuracy: 0.9142\n",
            "Epoch 55/200\n",
            "375/375 [==============================] - 1s 2ms/step - loss: 0.3171 - accuracy: 0.9123 - val_loss: 0.3036 - val_accuracy: 0.9149\n",
            "Epoch 56/200\n",
            "375/375 [==============================] - 2s 4ms/step - loss: 0.3163 - accuracy: 0.9123 - val_loss: 0.3030 - val_accuracy: 0.9150\n",
            "Epoch 57/200\n",
            "375/375 [==============================] - 1s 2ms/step - loss: 0.3156 - accuracy: 0.9125 - val_loss: 0.3024 - val_accuracy: 0.9153\n",
            "Epoch 58/200\n",
            "375/375 [==============================] - 1s 2ms/step - loss: 0.3149 - accuracy: 0.9130 - val_loss: 0.3019 - val_accuracy: 0.9154\n",
            "Epoch 59/200\n",
            "375/375 [==============================] - 1s 2ms/step - loss: 0.3142 - accuracy: 0.9129 - val_loss: 0.3014 - val_accuracy: 0.9152\n",
            "Epoch 60/200\n",
            "375/375 [==============================] - 1s 3ms/step - loss: 0.3135 - accuracy: 0.9134 - val_loss: 0.3009 - val_accuracy: 0.9159\n",
            "Epoch 61/200\n",
            "375/375 [==============================] - 2s 5ms/step - loss: 0.3129 - accuracy: 0.9133 - val_loss: 0.3004 - val_accuracy: 0.9152\n",
            "Epoch 62/200\n",
            "375/375 [==============================] - 3s 9ms/step - loss: 0.3123 - accuracy: 0.9134 - val_loss: 0.2998 - val_accuracy: 0.9155\n",
            "Epoch 63/200\n",
            "375/375 [==============================] - 1s 3ms/step - loss: 0.3116 - accuracy: 0.9135 - val_loss: 0.2993 - val_accuracy: 0.9158\n",
            "Epoch 64/200\n",
            "375/375 [==============================] - 1s 2ms/step - loss: 0.3110 - accuracy: 0.9139 - val_loss: 0.2989 - val_accuracy: 0.9163\n",
            "Epoch 65/200\n",
            "375/375 [==============================] - 1s 2ms/step - loss: 0.3104 - accuracy: 0.9139 - val_loss: 0.2985 - val_accuracy: 0.9165\n",
            "Epoch 66/200\n",
            "375/375 [==============================] - 1s 2ms/step - loss: 0.3098 - accuracy: 0.9141 - val_loss: 0.2980 - val_accuracy: 0.9162\n",
            "Epoch 67/200\n",
            "375/375 [==============================] - 1s 2ms/step - loss: 0.3092 - accuracy: 0.9141 - val_loss: 0.2977 - val_accuracy: 0.9165\n",
            "Epoch 68/200\n",
            "375/375 [==============================] - 1s 2ms/step - loss: 0.3087 - accuracy: 0.9142 - val_loss: 0.2972 - val_accuracy: 0.9167\n",
            "Epoch 69/200\n",
            "375/375 [==============================] - 1s 2ms/step - loss: 0.3081 - accuracy: 0.9145 - val_loss: 0.2967 - val_accuracy: 0.9168\n",
            "Epoch 70/200\n",
            "375/375 [==============================] - 1s 2ms/step - loss: 0.3076 - accuracy: 0.9146 - val_loss: 0.2963 - val_accuracy: 0.9169\n",
            "Epoch 71/200\n",
            "375/375 [==============================] - 1s 2ms/step - loss: 0.3071 - accuracy: 0.9150 - val_loss: 0.2959 - val_accuracy: 0.9169\n",
            "Epoch 72/200\n",
            "375/375 [==============================] - 1s 2ms/step - loss: 0.3065 - accuracy: 0.9149 - val_loss: 0.2955 - val_accuracy: 0.9169\n",
            "Epoch 73/200\n",
            "375/375 [==============================] - 1s 3ms/step - loss: 0.3061 - accuracy: 0.9150 - val_loss: 0.2952 - val_accuracy: 0.9170\n",
            "Epoch 74/200\n",
            "375/375 [==============================] - 1s 4ms/step - loss: 0.3056 - accuracy: 0.9154 - val_loss: 0.2949 - val_accuracy: 0.9173\n",
            "Epoch 75/200\n",
            "375/375 [==============================] - 1s 2ms/step - loss: 0.3051 - accuracy: 0.9150 - val_loss: 0.2945 - val_accuracy: 0.9169\n",
            "Epoch 76/200\n",
            "375/375 [==============================] - 1s 2ms/step - loss: 0.3046 - accuracy: 0.9154 - val_loss: 0.2941 - val_accuracy: 0.9170\n",
            "Epoch 77/200\n",
            "375/375 [==============================] - 1s 2ms/step - loss: 0.3041 - accuracy: 0.9154 - val_loss: 0.2937 - val_accuracy: 0.9178\n",
            "Epoch 78/200\n",
            "375/375 [==============================] - 1s 2ms/step - loss: 0.3037 - accuracy: 0.9156 - val_loss: 0.2934 - val_accuracy: 0.9174\n",
            "Epoch 79/200\n",
            "375/375 [==============================] - 1s 2ms/step - loss: 0.3032 - accuracy: 0.9159 - val_loss: 0.2930 - val_accuracy: 0.9177\n",
            "Epoch 80/200\n",
            "375/375 [==============================] - 1s 2ms/step - loss: 0.3028 - accuracy: 0.9160 - val_loss: 0.2928 - val_accuracy: 0.9176\n",
            "Epoch 81/200\n",
            "375/375 [==============================] - 1s 2ms/step - loss: 0.3023 - accuracy: 0.9159 - val_loss: 0.2925 - val_accuracy: 0.9178\n",
            "Epoch 82/200\n",
            "375/375 [==============================] - 1s 2ms/step - loss: 0.3019 - accuracy: 0.9163 - val_loss: 0.2922 - val_accuracy: 0.9178\n",
            "Epoch 83/200\n",
            "375/375 [==============================] - 1s 2ms/step - loss: 0.3015 - accuracy: 0.9161 - val_loss: 0.2918 - val_accuracy: 0.9180\n",
            "Epoch 84/200\n",
            "375/375 [==============================] - 1s 2ms/step - loss: 0.3011 - accuracy: 0.9164 - val_loss: 0.2916 - val_accuracy: 0.9181\n",
            "Epoch 85/200\n",
            "375/375 [==============================] - 1s 2ms/step - loss: 0.3007 - accuracy: 0.9162 - val_loss: 0.2912 - val_accuracy: 0.9182\n",
            "Epoch 86/200\n",
            "375/375 [==============================] - 1s 4ms/step - loss: 0.3003 - accuracy: 0.9167 - val_loss: 0.2909 - val_accuracy: 0.9181\n",
            "Epoch 87/200\n",
            "375/375 [==============================] - 1s 4ms/step - loss: 0.2999 - accuracy: 0.9168 - val_loss: 0.2906 - val_accuracy: 0.9185\n",
            "Epoch 88/200\n",
            "375/375 [==============================] - 1s 2ms/step - loss: 0.2995 - accuracy: 0.9166 - val_loss: 0.2904 - val_accuracy: 0.9182\n",
            "Epoch 89/200\n",
            "375/375 [==============================] - 1s 2ms/step - loss: 0.2991 - accuracy: 0.9171 - val_loss: 0.2901 - val_accuracy: 0.9185\n",
            "Epoch 90/200\n",
            "375/375 [==============================] - 1s 2ms/step - loss: 0.2988 - accuracy: 0.9170 - val_loss: 0.2898 - val_accuracy: 0.9186\n",
            "Epoch 91/200\n",
            "375/375 [==============================] - 1s 2ms/step - loss: 0.2984 - accuracy: 0.9169 - val_loss: 0.2896 - val_accuracy: 0.9184\n",
            "Epoch 92/200\n",
            "375/375 [==============================] - 1s 2ms/step - loss: 0.2980 - accuracy: 0.9172 - val_loss: 0.2893 - val_accuracy: 0.9187\n",
            "Epoch 93/200\n",
            "375/375 [==============================] - 1s 2ms/step - loss: 0.2977 - accuracy: 0.9171 - val_loss: 0.2891 - val_accuracy: 0.9187\n",
            "Epoch 94/200\n",
            "375/375 [==============================] - 1s 2ms/step - loss: 0.2973 - accuracy: 0.9173 - val_loss: 0.2888 - val_accuracy: 0.9185\n",
            "Epoch 95/200\n",
            "375/375 [==============================] - 1s 2ms/step - loss: 0.2970 - accuracy: 0.9174 - val_loss: 0.2886 - val_accuracy: 0.9183\n",
            "Epoch 96/200\n",
            "375/375 [==============================] - 1s 2ms/step - loss: 0.2966 - accuracy: 0.9178 - val_loss: 0.2883 - val_accuracy: 0.9190\n",
            "Epoch 97/200\n",
            "375/375 [==============================] - 1s 2ms/step - loss: 0.2963 - accuracy: 0.9177 - val_loss: 0.2881 - val_accuracy: 0.9187\n",
            "Epoch 98/200\n",
            "375/375 [==============================] - 1s 3ms/step - loss: 0.2959 - accuracy: 0.9178 - val_loss: 0.2879 - val_accuracy: 0.9189\n",
            "Epoch 99/200\n",
            "375/375 [==============================] - 1s 4ms/step - loss: 0.2957 - accuracy: 0.9177 - val_loss: 0.2876 - val_accuracy: 0.9188\n",
            "Epoch 100/200\n",
            "375/375 [==============================] - 1s 3ms/step - loss: 0.2953 - accuracy: 0.9179 - val_loss: 0.2874 - val_accuracy: 0.9192\n",
            "Epoch 101/200\n",
            "375/375 [==============================] - 1s 2ms/step - loss: 0.2950 - accuracy: 0.9181 - val_loss: 0.2872 - val_accuracy: 0.9189\n",
            "Epoch 102/200\n",
            "375/375 [==============================] - 1s 2ms/step - loss: 0.2947 - accuracy: 0.9181 - val_loss: 0.2869 - val_accuracy: 0.9188\n",
            "Epoch 103/200\n",
            "375/375 [==============================] - 1s 2ms/step - loss: 0.2944 - accuracy: 0.9183 - val_loss: 0.2867 - val_accuracy: 0.9193\n",
            "Epoch 104/200\n",
            "375/375 [==============================] - 1s 2ms/step - loss: 0.2941 - accuracy: 0.9184 - val_loss: 0.2865 - val_accuracy: 0.9193\n",
            "Epoch 105/200\n",
            "375/375 [==============================] - 1s 2ms/step - loss: 0.2938 - accuracy: 0.9183 - val_loss: 0.2864 - val_accuracy: 0.9192\n",
            "Epoch 106/200\n",
            "375/375 [==============================] - 1s 2ms/step - loss: 0.2935 - accuracy: 0.9184 - val_loss: 0.2862 - val_accuracy: 0.9197\n",
            "Epoch 107/200\n",
            "375/375 [==============================] - 1s 2ms/step - loss: 0.2932 - accuracy: 0.9184 - val_loss: 0.2859 - val_accuracy: 0.9198\n",
            "Epoch 108/200\n",
            "375/375 [==============================] - 1s 2ms/step - loss: 0.2929 - accuracy: 0.9185 - val_loss: 0.2858 - val_accuracy: 0.9193\n",
            "Epoch 109/200\n",
            "375/375 [==============================] - 1s 2ms/step - loss: 0.2927 - accuracy: 0.9185 - val_loss: 0.2855 - val_accuracy: 0.9195\n",
            "Epoch 110/200\n",
            "375/375 [==============================] - 1s 2ms/step - loss: 0.2923 - accuracy: 0.9186 - val_loss: 0.2854 - val_accuracy: 0.9193\n",
            "Epoch 111/200\n",
            "375/375 [==============================] - 1s 3ms/step - loss: 0.2921 - accuracy: 0.9187 - val_loss: 0.2852 - val_accuracy: 0.9195\n",
            "Epoch 112/200\n",
            "375/375 [==============================] - 1s 4ms/step - loss: 0.2918 - accuracy: 0.9188 - val_loss: 0.2849 - val_accuracy: 0.9193\n",
            "Epoch 113/200\n",
            "375/375 [==============================] - 1s 2ms/step - loss: 0.2915 - accuracy: 0.9188 - val_loss: 0.2848 - val_accuracy: 0.9196\n",
            "Epoch 114/200\n",
            "375/375 [==============================] - 1s 2ms/step - loss: 0.2913 - accuracy: 0.9187 - val_loss: 0.2846 - val_accuracy: 0.9197\n",
            "Epoch 115/200\n",
            "375/375 [==============================] - 1s 2ms/step - loss: 0.2910 - accuracy: 0.9189 - val_loss: 0.2845 - val_accuracy: 0.9194\n",
            "Epoch 116/200\n",
            "375/375 [==============================] - 1s 2ms/step - loss: 0.2908 - accuracy: 0.9188 - val_loss: 0.2842 - val_accuracy: 0.9200\n",
            "Epoch 117/200\n",
            "375/375 [==============================] - 1s 2ms/step - loss: 0.2905 - accuracy: 0.9192 - val_loss: 0.2841 - val_accuracy: 0.9196\n",
            "Epoch 118/200\n",
            "375/375 [==============================] - 1s 2ms/step - loss: 0.2902 - accuracy: 0.9191 - val_loss: 0.2840 - val_accuracy: 0.9197\n",
            "Epoch 119/200\n",
            "375/375 [==============================] - 1s 2ms/step - loss: 0.2900 - accuracy: 0.9194 - val_loss: 0.2838 - val_accuracy: 0.9199\n",
            "Epoch 120/200\n",
            "375/375 [==============================] - 1s 2ms/step - loss: 0.2898 - accuracy: 0.9193 - val_loss: 0.2837 - val_accuracy: 0.9197\n",
            "Epoch 121/200\n",
            "375/375 [==============================] - 1s 2ms/step - loss: 0.2895 - accuracy: 0.9191 - val_loss: 0.2834 - val_accuracy: 0.9206\n",
            "Epoch 122/200\n",
            "375/375 [==============================] - 1s 3ms/step - loss: 0.2893 - accuracy: 0.9195 - val_loss: 0.2832 - val_accuracy: 0.9202\n",
            "Epoch 123/200\n",
            "375/375 [==============================] - 1s 2ms/step - loss: 0.2890 - accuracy: 0.9194 - val_loss: 0.2831 - val_accuracy: 0.9196\n",
            "Epoch 124/200\n",
            "375/375 [==============================] - 1s 4ms/step - loss: 0.2888 - accuracy: 0.9195 - val_loss: 0.2828 - val_accuracy: 0.9202\n",
            "Epoch 125/200\n",
            "375/375 [==============================] - 1s 3ms/step - loss: 0.2886 - accuracy: 0.9197 - val_loss: 0.2828 - val_accuracy: 0.9198\n",
            "Epoch 126/200\n",
            "375/375 [==============================] - 1s 2ms/step - loss: 0.2883 - accuracy: 0.9195 - val_loss: 0.2826 - val_accuracy: 0.9204\n",
            "Epoch 127/200\n",
            "375/375 [==============================] - 1s 2ms/step - loss: 0.2881 - accuracy: 0.9198 - val_loss: 0.2825 - val_accuracy: 0.9201\n",
            "Epoch 128/200\n",
            "375/375 [==============================] - 1s 2ms/step - loss: 0.2879 - accuracy: 0.9197 - val_loss: 0.2823 - val_accuracy: 0.9202\n",
            "Epoch 129/200\n",
            "375/375 [==============================] - 1s 2ms/step - loss: 0.2877 - accuracy: 0.9196 - val_loss: 0.2822 - val_accuracy: 0.9202\n",
            "Epoch 130/200\n",
            "375/375 [==============================] - 1s 2ms/step - loss: 0.2874 - accuracy: 0.9197 - val_loss: 0.2821 - val_accuracy: 0.9202\n",
            "Epoch 131/200\n",
            "375/375 [==============================] - 1s 2ms/step - loss: 0.2872 - accuracy: 0.9201 - val_loss: 0.2819 - val_accuracy: 0.9206\n",
            "Epoch 132/200\n",
            "375/375 [==============================] - 1s 2ms/step - loss: 0.2870 - accuracy: 0.9197 - val_loss: 0.2818 - val_accuracy: 0.9210\n",
            "Epoch 133/200\n",
            "375/375 [==============================] - 1s 2ms/step - loss: 0.2868 - accuracy: 0.9198 - val_loss: 0.2816 - val_accuracy: 0.9211\n",
            "Epoch 134/200\n",
            "375/375 [==============================] - 1s 2ms/step - loss: 0.2866 - accuracy: 0.9200 - val_loss: 0.2815 - val_accuracy: 0.9206\n",
            "Epoch 135/200\n",
            "375/375 [==============================] - 1s 2ms/step - loss: 0.2864 - accuracy: 0.9204 - val_loss: 0.2813 - val_accuracy: 0.9206\n",
            "Epoch 136/200\n",
            "375/375 [==============================] - 1s 2ms/step - loss: 0.2862 - accuracy: 0.9203 - val_loss: 0.2812 - val_accuracy: 0.9209\n",
            "Epoch 137/200\n",
            "375/375 [==============================] - 1s 4ms/step - loss: 0.2859 - accuracy: 0.9202 - val_loss: 0.2810 - val_accuracy: 0.9207\n",
            "Epoch 138/200\n",
            "375/375 [==============================] - 1s 3ms/step - loss: 0.2858 - accuracy: 0.9203 - val_loss: 0.2809 - val_accuracy: 0.9208\n",
            "Epoch 139/200\n",
            "375/375 [==============================] - 1s 2ms/step - loss: 0.2855 - accuracy: 0.9204 - val_loss: 0.2808 - val_accuracy: 0.9208\n",
            "Epoch 140/200\n",
            "375/375 [==============================] - 1s 2ms/step - loss: 0.2854 - accuracy: 0.9204 - val_loss: 0.2807 - val_accuracy: 0.9202\n",
            "Epoch 141/200\n",
            "375/375 [==============================] - 1s 2ms/step - loss: 0.2852 - accuracy: 0.9204 - val_loss: 0.2805 - val_accuracy: 0.9206\n",
            "Epoch 142/200\n",
            "375/375 [==============================] - 1s 2ms/step - loss: 0.2850 - accuracy: 0.9202 - val_loss: 0.2804 - val_accuracy: 0.9208\n",
            "Epoch 143/200\n",
            "375/375 [==============================] - 1s 2ms/step - loss: 0.2848 - accuracy: 0.9205 - val_loss: 0.2803 - val_accuracy: 0.9207\n",
            "Epoch 144/200\n",
            "375/375 [==============================] - 1s 2ms/step - loss: 0.2846 - accuracy: 0.9204 - val_loss: 0.2801 - val_accuracy: 0.9210\n",
            "Epoch 145/200\n",
            "375/375 [==============================] - 1s 2ms/step - loss: 0.2844 - accuracy: 0.9206 - val_loss: 0.2800 - val_accuracy: 0.9208\n",
            "Epoch 146/200\n",
            "375/375 [==============================] - 1s 2ms/step - loss: 0.2842 - accuracy: 0.9204 - val_loss: 0.2800 - val_accuracy: 0.9212\n",
            "Epoch 147/200\n",
            "375/375 [==============================] - 1s 2ms/step - loss: 0.2840 - accuracy: 0.9205 - val_loss: 0.2799 - val_accuracy: 0.9212\n",
            "Epoch 148/200\n",
            "375/375 [==============================] - 1s 2ms/step - loss: 0.2838 - accuracy: 0.9207 - val_loss: 0.2798 - val_accuracy: 0.9212\n",
            "Epoch 149/200\n",
            "375/375 [==============================] - 1s 2ms/step - loss: 0.2837 - accuracy: 0.9208 - val_loss: 0.2795 - val_accuracy: 0.9210\n",
            "Epoch 150/200\n",
            "375/375 [==============================] - 1s 4ms/step - loss: 0.2834 - accuracy: 0.9208 - val_loss: 0.2794 - val_accuracy: 0.9209\n",
            "Epoch 151/200\n",
            "375/375 [==============================] - 1s 3ms/step - loss: 0.2833 - accuracy: 0.9211 - val_loss: 0.2793 - val_accuracy: 0.9209\n",
            "Epoch 152/200\n",
            "375/375 [==============================] - 1s 2ms/step - loss: 0.2831 - accuracy: 0.9209 - val_loss: 0.2792 - val_accuracy: 0.9211\n",
            "Epoch 153/200\n",
            "375/375 [==============================] - 1s 2ms/step - loss: 0.2830 - accuracy: 0.9208 - val_loss: 0.2791 - val_accuracy: 0.9213\n",
            "Epoch 154/200\n",
            "375/375 [==============================] - 1s 2ms/step - loss: 0.2828 - accuracy: 0.9208 - val_loss: 0.2790 - val_accuracy: 0.9216\n",
            "Epoch 155/200\n",
            "375/375 [==============================] - 1s 2ms/step - loss: 0.2826 - accuracy: 0.9211 - val_loss: 0.2789 - val_accuracy: 0.9212\n",
            "Epoch 156/200\n",
            "375/375 [==============================] - 1s 2ms/step - loss: 0.2824 - accuracy: 0.9210 - val_loss: 0.2788 - val_accuracy: 0.9212\n",
            "Epoch 157/200\n",
            "375/375 [==============================] - 1s 2ms/step - loss: 0.2823 - accuracy: 0.9212 - val_loss: 0.2787 - val_accuracy: 0.9215\n",
            "Epoch 158/200\n",
            "375/375 [==============================] - 1s 2ms/step - loss: 0.2821 - accuracy: 0.9214 - val_loss: 0.2786 - val_accuracy: 0.9212\n",
            "Epoch 159/200\n",
            "375/375 [==============================] - 1s 2ms/step - loss: 0.2819 - accuracy: 0.9214 - val_loss: 0.2786 - val_accuracy: 0.9212\n",
            "Epoch 160/200\n",
            "375/375 [==============================] - 1s 2ms/step - loss: 0.2817 - accuracy: 0.9214 - val_loss: 0.2784 - val_accuracy: 0.9212\n",
            "Epoch 161/200\n",
            "375/375 [==============================] - 1s 2ms/step - loss: 0.2816 - accuracy: 0.9214 - val_loss: 0.2783 - val_accuracy: 0.9218\n",
            "Epoch 162/200\n",
            "375/375 [==============================] - 1s 3ms/step - loss: 0.2814 - accuracy: 0.9213 - val_loss: 0.2782 - val_accuracy: 0.9214\n",
            "Epoch 163/200\n",
            "375/375 [==============================] - 2s 4ms/step - loss: 0.2813 - accuracy: 0.9214 - val_loss: 0.2781 - val_accuracy: 0.9218\n",
            "Epoch 164/200\n",
            "375/375 [==============================] - 1s 3ms/step - loss: 0.2811 - accuracy: 0.9217 - val_loss: 0.2780 - val_accuracy: 0.9216\n",
            "Epoch 165/200\n",
            "375/375 [==============================] - 1s 2ms/step - loss: 0.2809 - accuracy: 0.9215 - val_loss: 0.2779 - val_accuracy: 0.9215\n",
            "Epoch 166/200\n",
            "375/375 [==============================] - 1s 2ms/step - loss: 0.2808 - accuracy: 0.9215 - val_loss: 0.2777 - val_accuracy: 0.9216\n",
            "Epoch 167/200\n",
            "375/375 [==============================] - 1s 2ms/step - loss: 0.2806 - accuracy: 0.9218 - val_loss: 0.2777 - val_accuracy: 0.9214\n",
            "Epoch 168/200\n",
            "375/375 [==============================] - 1s 2ms/step - loss: 0.2805 - accuracy: 0.9215 - val_loss: 0.2776 - val_accuracy: 0.9218\n",
            "Epoch 169/200\n",
            "375/375 [==============================] - 1s 2ms/step - loss: 0.2803 - accuracy: 0.9214 - val_loss: 0.2775 - val_accuracy: 0.9218\n",
            "Epoch 170/200\n",
            "375/375 [==============================] - 1s 2ms/step - loss: 0.2802 - accuracy: 0.9216 - val_loss: 0.2774 - val_accuracy: 0.9214\n",
            "Epoch 171/200\n",
            "375/375 [==============================] - 1s 2ms/step - loss: 0.2800 - accuracy: 0.9215 - val_loss: 0.2773 - val_accuracy: 0.9217\n",
            "Epoch 172/200\n",
            "375/375 [==============================] - 1s 2ms/step - loss: 0.2799 - accuracy: 0.9217 - val_loss: 0.2773 - val_accuracy: 0.9215\n",
            "Epoch 173/200\n",
            "375/375 [==============================] - 1s 2ms/step - loss: 0.2797 - accuracy: 0.9216 - val_loss: 0.2771 - val_accuracy: 0.9216\n",
            "Epoch 174/200\n",
            "375/375 [==============================] - 1s 2ms/step - loss: 0.2796 - accuracy: 0.9214 - val_loss: 0.2770 - val_accuracy: 0.9218\n",
            "Epoch 175/200\n",
            "375/375 [==============================] - 1s 3ms/step - loss: 0.2794 - accuracy: 0.9219 - val_loss: 0.2770 - val_accuracy: 0.9221\n",
            "Epoch 176/200\n",
            "375/375 [==============================] - 1s 4ms/step - loss: 0.2793 - accuracy: 0.9217 - val_loss: 0.2769 - val_accuracy: 0.9218\n",
            "Epoch 177/200\n",
            "375/375 [==============================] - 1s 2ms/step - loss: 0.2792 - accuracy: 0.9218 - val_loss: 0.2768 - val_accuracy: 0.9217\n",
            "Epoch 178/200\n",
            "375/375 [==============================] - 1s 2ms/step - loss: 0.2790 - accuracy: 0.9219 - val_loss: 0.2768 - val_accuracy: 0.9215\n",
            "Epoch 179/200\n",
            "375/375 [==============================] - 1s 2ms/step - loss: 0.2789 - accuracy: 0.9215 - val_loss: 0.2766 - val_accuracy: 0.9222\n",
            "Epoch 180/200\n",
            "375/375 [==============================] - 1s 2ms/step - loss: 0.2787 - accuracy: 0.9218 - val_loss: 0.2767 - val_accuracy: 0.9221\n",
            "Epoch 181/200\n",
            "375/375 [==============================] - 1s 2ms/step - loss: 0.2786 - accuracy: 0.9218 - val_loss: 0.2765 - val_accuracy: 0.9219\n",
            "Epoch 182/200\n",
            "375/375 [==============================] - 1s 2ms/step - loss: 0.2785 - accuracy: 0.9219 - val_loss: 0.2764 - val_accuracy: 0.9220\n",
            "Epoch 183/200\n",
            "375/375 [==============================] - 1s 2ms/step - loss: 0.2783 - accuracy: 0.9220 - val_loss: 0.2763 - val_accuracy: 0.9222\n",
            "Epoch 184/200\n",
            "375/375 [==============================] - 1s 2ms/step - loss: 0.2782 - accuracy: 0.9220 - val_loss: 0.2762 - val_accuracy: 0.9216\n",
            "Epoch 185/200\n",
            "375/375 [==============================] - 1s 2ms/step - loss: 0.2781 - accuracy: 0.9220 - val_loss: 0.2761 - val_accuracy: 0.9222\n",
            "Epoch 186/200\n",
            "375/375 [==============================] - 1s 2ms/step - loss: 0.2779 - accuracy: 0.9222 - val_loss: 0.2760 - val_accuracy: 0.9220\n",
            "Epoch 187/200\n",
            "375/375 [==============================] - 1s 2ms/step - loss: 0.2778 - accuracy: 0.9222 - val_loss: 0.2760 - val_accuracy: 0.9222\n",
            "Epoch 188/200\n",
            "375/375 [==============================] - 1s 4ms/step - loss: 0.2776 - accuracy: 0.9221 - val_loss: 0.2760 - val_accuracy: 0.9225\n",
            "Epoch 189/200\n",
            "375/375 [==============================] - 1s 4ms/step - loss: 0.2775 - accuracy: 0.9220 - val_loss: 0.2759 - val_accuracy: 0.9221\n",
            "Epoch 190/200\n",
            "375/375 [==============================] - 1s 2ms/step - loss: 0.2774 - accuracy: 0.9221 - val_loss: 0.2758 - val_accuracy: 0.9223\n",
            "Epoch 191/200\n",
            "375/375 [==============================] - 1s 2ms/step - loss: 0.2772 - accuracy: 0.9223 - val_loss: 0.2757 - val_accuracy: 0.9224\n",
            "Epoch 192/200\n",
            "375/375 [==============================] - 1s 2ms/step - loss: 0.2771 - accuracy: 0.9222 - val_loss: 0.2757 - val_accuracy: 0.9224\n",
            "Epoch 193/200\n",
            "375/375 [==============================] - 1s 2ms/step - loss: 0.2770 - accuracy: 0.9226 - val_loss: 0.2756 - val_accuracy: 0.9223\n",
            "Epoch 194/200\n",
            "375/375 [==============================] - 1s 2ms/step - loss: 0.2769 - accuracy: 0.9221 - val_loss: 0.2755 - val_accuracy: 0.9226\n",
            "Epoch 195/200\n",
            "375/375 [==============================] - 1s 2ms/step - loss: 0.2768 - accuracy: 0.9225 - val_loss: 0.2754 - val_accuracy: 0.9224\n",
            "Epoch 196/200\n",
            "375/375 [==============================] - 1s 2ms/step - loss: 0.2766 - accuracy: 0.9224 - val_loss: 0.2753 - val_accuracy: 0.9226\n",
            "Epoch 197/200\n",
            "375/375 [==============================] - 1s 2ms/step - loss: 0.2765 - accuracy: 0.9227 - val_loss: 0.2753 - val_accuracy: 0.9224\n",
            "Epoch 198/200\n",
            "375/375 [==============================] - 1s 2ms/step - loss: 0.2764 - accuracy: 0.9224 - val_loss: 0.2752 - val_accuracy: 0.9224\n",
            "Epoch 199/200\n",
            "375/375 [==============================] - 1s 2ms/step - loss: 0.2762 - accuracy: 0.9226 - val_loss: 0.2751 - val_accuracy: 0.9222\n",
            "Epoch 200/200\n",
            "375/375 [==============================] - 1s 3ms/step - loss: 0.2761 - accuracy: 0.9226 - val_loss: 0.2750 - val_accuracy: 0.9226\n",
            "313/313 [==============================] - 1s 2ms/step - loss: 0.2772 - accuracy: 0.9225\n",
            "Test score: 0.27721282839775085\n",
            "Test accuracy: 0.9225000143051147\n"
          ]
        }
      ]
    },
    {
      "cell_type": "code",
      "source": [
        "import matplotlib.pyplot as plt\n",
        "\n",
        "plt.plot(history.history['loss'], label='Training Loss')\n",
        "plt.plot(history.history['val_loss'], label='Validation Loss')\n",
        "plt.title('Loss vs Epoch')\n",
        "plt.xlabel('Epoch')\n",
        "plt.ylabel('Loss')\n",
        "plt.legend()\n",
        "plt.show()"
      ],
      "metadata": {
        "colab": {
          "base_uri": "https://localhost:8080/",
          "height": 472
        },
        "id": "pWCXyEcFLeYt",
        "outputId": "6b9b1821-b79b-448d-a0b2-1f9a6661fc41"
      },
      "execution_count": 47,
      "outputs": [
        {
          "output_type": "display_data",
          "data": {
            "text/plain": [
              "<Figure size 640x480 with 1 Axes>"
            ],
            "image/png": "[encoded data removed]"
          },
          "metadata": {}
        }
      ]
    },
    {
      "cell_type": "markdown",
      "source": [
        "#Acuracidade:"
      ],
      "metadata": {
        "id": "wTuKkCSnnwPa"
      }
    },
    {
      "cell_type": "code",
      "source": [
        "plt.plot(history.history['accuracy'], label = \"Training Accuracy\")\n",
        "plt.plot(history.history['val_accuracy'], label = \"Validation Accuracy\")\n",
        "plt.ylabel(\"Accuracy\")\n",
        "plt.xlabel(\"Epoch\")\n",
        "plt.title(\"Model Accuracy vs Epoch\")\n",
        "plt.legend()\n",
        "plt.show()"
      ],
      "metadata": {
        "colab": {
          "base_uri": "https://localhost:8080/",
          "height": 472
        },
        "id": "OUxB2-aXMiWm",
        "outputId": "8def2f20-de63-40e8-eced-b96bf07ad8c7"
      },
      "execution_count": 48,
      "outputs": [
        {
          "output_type": "display_data",
          "data": {
            "text/plain": [
              "<Figure size 640x480 with 1 Axes>"
            ],
            "image/png": "[encoded data removed]"
          },
          "metadata": {}
        }
      ]
    },
    {
      "cell_type": "code",
      "source": [
        "model.summary()"
      ],
      "metadata": {
        "colab": {
          "base_uri": "https://localhost:8080/"
        },
        "id": "CsIS8AGLn54F",
        "outputId": "0adb4377-7acf-4144-8a65-6c0d14dea916"
      },
      "execution_count": 49,
      "outputs": [
        {
          "output_type": "stream",
          "name": "stdout",
          "text": [
            "Model: \"sequential_1\"\n",
            "_________________________________________________________________\n",
            " Layer (type)                Output Shape              Param #   \n",
            "=================================================================\n",
            " dense_1 (Dense)             (None, 10)                7850      \n",
            "                                                                 \n",
            " activation_1 (Activation)   (None, 10)                0         \n",
            "                                                                 \n",
            "=================================================================\n",
            "Total params: 7850 (30.66 KB)\n",
            "Trainable params: 7850 (30.66 KB)\n",
            "Non-trainable params: 0 (0.00 Byte)\n",
            "_________________________________________________________________\n"
          ]
        }
      ]
    },
    {
      "cell_type": "code",
      "source": [
        "model.optimizer.get_config()"
      ],
      "metadata": {
        "colab": {
          "base_uri": "https://localhost:8080/"
        },
        "id": "pPca92pH2oCw",
        "outputId": "957f1e04-55fe-4837-f7a7-eb40a35238c8"
      },
      "execution_count": 51,
      "outputs": [
        {
          "output_type": "execute_result",
          "data": {
            "text/plain": [
              "{'name': 'SGD',\n",
              " 'weight_decay': None,\n",
              " 'clipnorm': None,\n",
              " 'global_clipnorm': None,\n",
              " 'clipvalue': None,\n",
              " 'use_ema': False,\n",
              " 'ema_momentum': 0.99,\n",
              " 'ema_overwrite_frequency': None,\n",
              " 'jit_compile': False,\n",
              " 'is_legacy_optimizer': False,\n",
              " 'learning_rate': 0.01,\n",
              " 'momentum': 0.0,\n",
              " 'nesterov': False}"
            ]
          },
          "metadata": {},
          "execution_count": 51
        }
      ]
    },
    {
      "cell_type": "code",
      "source": [],
      "metadata": {
        "id": "oa-wfbYE5wBr"
      },
      "execution_count": null,
      "outputs": []
    }
  ],
  "metadata": {
    "colab": {
      "provenance": []
    },
    "kernelspec": {
      "display_name": "Python 3",
      "name": "python3"
    },
    "language_info": {
      "name": "python"
    }
  },
  "nbformat": 4,
  "nbformat_minor": 0
}